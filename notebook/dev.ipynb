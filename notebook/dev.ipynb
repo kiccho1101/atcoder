{
 "cells": [
  {
   "cell_type": "code",
   "execution_count": null,
   "metadata": {},
   "outputs": [],
   "source": []
  },
  {
   "cell_type": "code",
   "execution_count": 58,
   "metadata": {
    "ExecuteTime": {
     "end_time": "2020-02-29T03:34:18.036074Z",
     "start_time": "2020-02-29T03:34:18.031878Z"
    }
   },
   "outputs": [],
   "source": [
    "import pandas as pd\n",
    "import numpy as np\n",
    "import scipy\n",
    "from scipy.spatial import distance_matrix\n",
    "from tqdm import tqdm\n",
    "import math"
   ]
  },
  {
   "cell_type": "code",
   "execution_count": 74,
   "metadata": {
    "ExecuteTime": {
     "end_time": "2020-02-29T03:51:54.248032Z",
     "start_time": "2020-02-29T03:51:51.129579Z"
    }
   },
   "outputs": [
    {
     "name": "stdout",
     "output_type": "stream",
     "text": [
      "1234 56789 314159265\n",
      "254309\n"
     ]
    }
   ],
   "source": [
    "import numpy as np\n",
    "\n",
    "A, B, X = np.array(input().split()).astype(int).tolist()\n",
    "\n",
    "flag = 1\n",
    "upper = 10 ** 9\n",
    "lower = 0\n",
    "\n",
    "if A * upper + B * (int(np.log10(upper)) + 1) <= X:\n",
    "    result = upper\n",
    "    flag = 0\n",
    "\n",
    "while flag == 1:\n",
    "\n",
    "    m = int((upper + lower) / 2)\n",
    "\n",
    "    if A * m + B * (int(np.log10(m)) + 1) > X:\n",
    "        upper = m\n",
    "    else:\n",
    "        lower = m\n",
    "\n",
    "    if lower + 1 == upper:\n",
    "        result = lower\n",
    "        flag = 0\n",
    "\n",
    "print(result)"
   ]
  }
 ],
 "metadata": {
  "kernelspec": {
   "display_name": "Python 3",
   "language": "python",
   "name": "python3"
  },
  "language_info": {
   "codemirror_mode": {
    "name": "ipython",
    "version": 3
   },
   "file_extension": ".py",
   "mimetype": "text/x-python",
   "name": "python",
   "nbconvert_exporter": "python",
   "pygments_lexer": "ipython3",
   "version": "3.6.6"
  },
  "toc": {
   "base_numbering": 1,
   "nav_menu": {},
   "number_sections": true,
   "sideBar": true,
   "skip_h1_title": false,
   "title_cell": "Table of Contents",
   "title_sidebar": "Contents",
   "toc_cell": false,
   "toc_position": {},
   "toc_section_display": true,
   "toc_window_display": false
  },
  "varInspector": {
   "cols": {
    "lenName": 16,
    "lenType": 16,
    "lenVar": 40
   },
   "kernels_config": {
    "python": {
     "delete_cmd_postfix": "",
     "delete_cmd_prefix": "del ",
     "library": "var_list.py",
     "varRefreshCmd": "print(var_dic_list())"
    },
    "r": {
     "delete_cmd_postfix": ") ",
     "delete_cmd_prefix": "rm(",
     "library": "var_list.r",
     "varRefreshCmd": "cat(var_dic_list()) "
    }
   },
   "types_to_exclude": [
    "module",
    "function",
    "builtin_function_or_method",
    "instance",
    "_Feature"
   ],
   "window_display": false
  }
 },
 "nbformat": 4,
 "nbformat_minor": 4
}
